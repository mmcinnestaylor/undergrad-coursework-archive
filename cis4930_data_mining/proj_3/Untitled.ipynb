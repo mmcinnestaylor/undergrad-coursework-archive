{
 "cells": [
  {
   "cell_type": "code",
   "execution_count": null,
   "metadata": {},
   "outputs": [],
   "source": [
    "import csv\n",
    "from math import log"
   ]
  },
  {
   "cell_type": "code",
   "execution_count": null,
   "metadata": {},
   "outputs": [],
   "source": [
    "def clean_data(unclean_data, attrs):\n",
    "    cleaned_data = []\n",
    "    for row in unclean_data:\n",
    "        temp = ['0'] * attrs #use int to revert\n",
    "        for pair in row:\n",
    "            parsed = pair.split(':')\n",
    "            temp[int(parsed[0])-1] = parsed[1]#wrap with int to revert\n",
    "        cleaned_data.append(temp)\n",
    "    return cleaned_data"
   ]
  },
  {
   "cell_type": "code",
   "execution_count": null,
   "metadata": {},
   "outputs": [],
   "source": [
    "def load_data(file):\n",
    "    data_u = []\n",
    "    labels = []\n",
    "    max_attr = 0\n",
    "    \n",
    "    with open(file, newline='') as datafile:\n",
    "        data_reader = csv.reader(datafile, delimiter=' ')\n",
    "\n",
    "        for row in data_reader:\n",
    "            # read data point\n",
    "            data_u.append(row[1:])\n",
    "            # read label\n",
    "            labels.append(row[0])\n",
    "\n",
    "            for pair in row[1:]:\n",
    "                index = int((pair.split(':'))[0])\n",
    "                if index > max_attr:\n",
    "                    max_attr = index\n",
    "    \n",
    "    cleaned_data = clean_data(data_u, max_attr)\n",
    "\n",
    "    return [(cleaned_data[i], labels[i]) for i in range(len(cleaned_data))], max_attr, set(labels)"
   ]
  },
  {
   "cell_type": "code",
   "execution_count": null,
   "metadata": {},
   "outputs": [],
   "source": [
    "def train(data, attrs, label_set):\n",
    "    attr_freqs = []\n",
    "    attr_probs = []\n",
    "    label_freqs = dict(zip(label_set, [0]*len(label_set)))\n",
    "    label_probs = {}\n",
    "    set_size = len(data)\n",
    "    \n",
    "    # initialize lists with empty empty dictionary for each attribute \n",
    "    for i in range(attrs):\n",
    "        attr_freqs.append({})\n",
    "        attr_probs.append({})    \n",
    "    \n",
    "    # parse each datapoint and label tuple in training data\n",
    "    # each tuple in data in format of ([datapoint], label)    \n",
    "    for pair in data:\n",
    "        # print(pair[0])\n",
    "        # update frequency dictionaries for each attribute in datapoint  \n",
    "        for i,attr in enumerate(pair[0]):\n",
    "            if attr not in attr_freqs[i].keys():\n",
    "                (attr_freqs[i])[attr] = dict(zip(label_set, [0]*len(label_set))) # initialize attribute freq dict\n",
    "                (attr_probs[i])[attr] = dict(zip(label_set, [0]*len(label_set))) # initialize attribute probability dict\n",
    "                ((attr_freqs[i])[attr])[pair[1]] = 1 \n",
    "            else:\n",
    "                ((attr_freqs[i])[attr])[pair[1]] += 1\n",
    "                \n",
    "        label_freqs[pair[1]] += 1\n",
    "    \n",
    "    # print(attr_freqs)\n",
    "    \n",
    "    # calculate probabilities for each attribute's possible value\n",
    "    for i,attr in enumerate(attr_freqs):\n",
    "        for value in attr.keys():\n",
    "            for label in ((attr_freqs[i])[value]).keys():\n",
    "                ((attr_probs[i])[value])[label] = ((attr_freqs[i])[value])[label]/label_freqs[label]\n",
    "                \n",
    "    # calculate probabilities for each label\n",
    "    for label in label_freqs.keys():\n",
    "        label_probs[label] = label_freqs[label] / set_size\n",
    "                \n",
    "    # print(attr_probs)\n",
    "    return attr_probs, label_probs "
   ]
  },
  {
   "cell_type": "code",
   "execution_count": null,
   "metadata": {},
   "outputs": [],
   "source": [
    "def test(data, label_set, attr_probs, label_probs):\n",
    "    results = [0 for i in range(4)]\n",
    "\n",
    "    predictions = dict(zip(label_set, [0]*len(label_set)))\n",
    "    \n",
    "    for pair in data:\n",
    "        for label in predictions.keys():\n",
    "            predictions[label] = log(label_probs[label])\n",
    "            \n",
    "        #print(predictions)\n",
    "        \n",
    "        for i,attr in enumerate(pair[0]):\n",
    "            if attr in attr_probs[i].keys():\n",
    "                for label in predictions.keys():\n",
    "                    if ((attr_probs[i])[attr])[label] > 0:\n",
    "                        predictions[label] += log(((attr_probs[i])[attr])[label])\n",
    "                    else:\n",
    "                        predictions[label] += float('-inf')\n",
    "            else:\n",
    "                for label in predictions.keys():\n",
    "                    predictions[label] += float('-inf')\n",
    "        #print(predictions)\n",
    "        #print(max(predictions, key=predictions.get))\n",
    "        \n",
    "        # true positive\n",
    "        if max(predictions, key=predictions.get) == pair[1] and pair[1] == '+1':\n",
    "            results[0] += 1\n",
    "        # false negative\n",
    "        elif max(predictions, key=predictions.get) != pair[1] and pair[1] == '+1':\n",
    "            results[1] += 1\n",
    "        # true negative\n",
    "        elif max(predictions, key=predictions.get) != pair[1] and pair[1] == '-1':\n",
    "            results[2] += 1\n",
    "        # false positive\n",
    "        elif max(predictions, key=predictions.get) == pair[1] and pair[1] == '-1':\n",
    "            results[3] += 1\n",
    "        \n",
    "    return results"
   ]
  },
  {
   "cell_type": "code",
   "execution_count": null,
   "metadata": {},
   "outputs": [],
   "source": [
    "train_file = 'data/breast_cancer.train.txt'\n",
    "test_file = 'data/breast_cancer.test.txt'"
   ]
  },
  {
   "cell_type": "code",
   "execution_count": null,
   "metadata": {},
   "outputs": [],
   "source": [
    "train_file = 'data/led.train.txt'\n",
    "test_file = 'data/led.test.txt'"
   ]
  },
  {
   "cell_type": "code",
   "execution_count": null,
   "metadata": {},
   "outputs": [],
   "source": [
    "train_data, num_attrs, label_set = load_data(train_file)"
   ]
  },
  {
   "cell_type": "code",
   "execution_count": null,
   "metadata": {},
   "outputs": [],
   "source": [
    "print(label_set)"
   ]
  },
  {
   "cell_type": "code",
   "execution_count": null,
   "metadata": {},
   "outputs": [],
   "source": [
    "attr_probs, label_probs = train(train_data, num_attrs, label_set)"
   ]
  },
  {
   "cell_type": "code",
   "execution_count": null,
   "metadata": {},
   "outputs": [],
   "source": [
    "for attr in attr_probs:\n",
    "    print(attr)\n",
    "print(label_probs)"
   ]
  },
  {
   "cell_type": "code",
   "execution_count": null,
   "metadata": {},
   "outputs": [],
   "source": [
    "results = test(train_data, label_set, attr_probs, label_probs)"
   ]
  },
  {
   "cell_type": "code",
   "execution_count": null,
   "metadata": {},
   "outputs": [],
   "source": [
    "print(results)"
   ]
  },
  {
   "cell_type": "code",
   "execution_count": null,
   "metadata": {},
   "outputs": [],
   "source": [
    "test_data, num_attrs, label_set = load_data(test_file)"
   ]
  },
  {
   "cell_type": "code",
   "execution_count": null,
   "metadata": {},
   "outputs": [],
   "source": [
    "results = test(test_data, label_set, attr_probs, label_probs)"
   ]
  },
  {
   "cell_type": "code",
   "execution_count": null,
   "metadata": {},
   "outputs": [],
   "source": [
    "print(results)"
   ]
  },
  {
   "cell_type": "code",
   "execution_count": null,
   "metadata": {},
   "outputs": [],
   "source": []
  }
 ],
 "metadata": {
  "kernelspec": {
   "display_name": "Python 3",
   "language": "python",
   "name": "python3"
  },
  "language_info": {
   "codemirror_mode": {
    "name": "ipython",
    "version": 3
   },
   "file_extension": ".py",
   "mimetype": "text/x-python",
   "name": "python",
   "nbconvert_exporter": "python",
   "pygments_lexer": "ipython3",
   "version": "3.8.5"
  }
 },
 "nbformat": 4,
 "nbformat_minor": 4
}
