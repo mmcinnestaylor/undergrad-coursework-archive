{
 "cells": [
  {
   "cell_type": "markdown",
   "metadata": {},
   "source": [
    "# Question 1"
   ]
  },
  {
   "cell_type": "markdown",
   "metadata": {},
   "source": [
    "Coat check: discrete, nominal (is a key/value relationship similar to a zip code, where a number is a key and the coat or location is the value)"
   ]
  },
  {
   "cell_type": "markdown",
   "metadata": {},
   "source": [
    "Angles: continuous, ratio (ex. 90 degrees is twice as many as 45)"
   ]
  },
  {
   "cell_type": "markdown",
   "metadata": {},
   "source": [
    "Medals: discrete, ordinal (first, second, third place allows ordering but the magnitude between medals unknown)"
   ]
  },
  {
   "cell_type": "markdown",
   "metadata": {},
   "source": [
    "ISBN: discrete, nominal (based on the ISBN wiki page, the ISBN of a book is calculated using, amongst other things, the publisher's information. While the ISBNs themselves can be ordered numerically, the arrangement would have no inherant meaning)"
   ]
  },
  {
   "cell_type": "markdown",
   "metadata": {},
   "source": [
    "Distance: continuous, ratio (distance is a length, which is a ratio per the slides)"
   ]
  }
 ],
 "metadata": {
  "kernelspec": {
   "display_name": "Python 3",
   "language": "python",
   "name": "python3"
  },
  "language_info": {
   "codemirror_mode": {
    "name": "ipython",
    "version": 3
   },
   "file_extension": ".py",
   "mimetype": "text/x-python",
   "name": "python",
   "nbconvert_exporter": "python",
   "pygments_lexer": "ipython3",
   "version": "3.8.5"
  }
 },
 "nbformat": 4,
 "nbformat_minor": 4
}
