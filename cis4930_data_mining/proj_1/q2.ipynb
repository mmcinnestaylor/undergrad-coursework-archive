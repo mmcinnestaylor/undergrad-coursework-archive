{
 "cells": [
  {
   "cell_type": "markdown",
   "metadata": {},
   "source": [
    "# Question 2"
   ]
  },
  {
   "cell_type": "code",
   "execution_count": 1,
   "metadata": {},
   "outputs": [],
   "source": [
    "''' Age data '''\n",
    "ages = [13, 15, 16, 16, 19, 20, 20, 21, 22, 22, 25, 25, 25, 25, 30, 33, 33, 35, 35, 35, 35, 36, 40, 45, 46, 52, 70]"
   ]
  },
  {
   "cell_type": "code",
   "execution_count": 2,
   "metadata": {},
   "outputs": [],
   "source": [
    "''' Basic mean/average calculation '''\n",
    "mean = sum(ages)/len(ages)"
   ]
  },
  {
   "cell_type": "code",
   "execution_count": 3,
   "metadata": {},
   "outputs": [],
   "source": [
    "''' Sort ages to find median'''\n",
    "ages.sort()"
   ]
  },
  {
   "cell_type": "code",
   "execution_count": 4,
   "metadata": {},
   "outputs": [],
   "source": [
    "''' Calculate median of all ages '''\n",
    "median_index = int(len(ages)/2)"
   ]
  },
  {
   "cell_type": "code",
   "execution_count": 5,
   "metadata": {},
   "outputs": [],
   "source": [
    "''' Calculate the number of occurences of each unique value in the ages list '''\n",
    "freqs = {}\n",
    "\n",
    "for age in ages:\n",
    "    if str(age) in freqs:\n",
    "        freqs[str(age)] += 1\n",
    "    else:\n",
    "        freqs[str(age)] = 1"
   ]
  },
  {
   "cell_type": "code",
   "execution_count": 6,
   "metadata": {},
   "outputs": [],
   "source": [
    "''' Find the occurence value with the largest magnitude '''\n",
    "occurances = max(freqs.values())"
   ]
  },
  {
   "cell_type": "code",
   "execution_count": 7,
   "metadata": {},
   "outputs": [],
   "source": [
    "''' Find the ages which have a number of occurences equal to the max found above '''\n",
    "modes = [age for age in freqs if freqs[age] == occurances] "
   ]
  },
  {
   "cell_type": "code",
   "execution_count": 8,
   "metadata": {},
   "outputs": [],
   "source": [
    "''' Split list for Q1 calculation (all ages less than median) '''\n",
    "lower_half = ages[:median_index]"
   ]
  },
  {
   "cell_type": "code",
   "execution_count": 9,
   "metadata": {},
   "outputs": [],
   "source": [
    "''' Calculate index of median in lower_half list '''\n",
    "q1_index = int(len(lower_half)/2)"
   ]
  },
  {
   "cell_type": "code",
   "execution_count": 10,
   "metadata": {},
   "outputs": [],
   "source": [
    "''' Split list for Q3 calculation (all ages greater than median)'''\n",
    "upper_half = ages[median_index+1:]"
   ]
  },
  {
   "cell_type": "code",
   "execution_count": 11,
   "metadata": {},
   "outputs": [],
   "source": [
    "''' Calculate index of median in upper_half list '''\n",
    "q3_index = int(len(upper_half)/2)"
   ]
  },
  {
   "cell_type": "markdown",
   "metadata": {},
   "source": [
    "# Results"
   ]
  },
  {
   "cell_type": "code",
   "execution_count": 12,
   "metadata": {},
   "outputs": [
    {
     "name": "stdout",
     "output_type": "stream",
     "text": [
      "The mean is: 29\n",
      "The median is: 25\n",
      "The modes are:  ['25', '35']\n",
      "Q1 is: 20\n",
      "Q3 is: 35\n"
     ]
    }
   ],
   "source": [
    "print('The mean is: %d' % mean)\n",
    "print('The median is: %d' % ages[median_index])\n",
    "print('The modes are: ', modes)\n",
    "print('Q1 is: %d' % lower_half[q1_index])\n",
    "print('Q3 is: %d' % upper_half[q3_index])"
   ]
  }
 ],
 "metadata": {
  "kernelspec": {
   "display_name": "Python 3",
   "language": "python",
   "name": "python3"
  },
  "language_info": {
   "codemirror_mode": {
    "name": "ipython",
    "version": 3
   },
   "file_extension": ".py",
   "mimetype": "text/x-python",
   "name": "python",
   "nbconvert_exporter": "python",
   "pygments_lexer": "ipython3",
   "version": "3.8.5"
  }
 },
 "nbformat": 4,
 "nbformat_minor": 4
}
